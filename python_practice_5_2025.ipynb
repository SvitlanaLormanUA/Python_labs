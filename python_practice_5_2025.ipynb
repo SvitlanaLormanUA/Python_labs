{
  "cells": [
    {
      "cell_type": "markdown",
      "metadata": {
        "id": "5qV_sehzFCTp"
      },
      "source": [
        "# I. OOP"
      ]
    },
    {
      "cell_type": "markdown",
      "metadata": {
        "id": "tx_U_hOALyfg"
      },
      "source": [
        "1. (6б). Створіть клас Building, додайте три атрибути, один з яких має значення за замовчуванням та два методи на свій розсуд."
      ]
    },
    {
      "cell_type": "code",
      "execution_count": 13,
      "metadata": {
        "id": "-Vf895KaL88N"
      },
      "outputs": [],
      "source": [
        "class Building:\n",
        "    def __init__(self, name, area, height = 20):\n",
        "        self.name = name\n",
        "        self.height = height\n",
        "        self.area = area\n",
        "    \n",
        "    def __str__(self):\n",
        "        return f\"{self.name} is {self.height} meters tall and has an area of {self.area} square meters\"\n",
        "    \n",
        "    def calculate_volume(self):\n",
        "        return self.area * self.height\n",
        "    \n"
      ]
    },
    {
      "cell_type": "markdown",
      "metadata": {
        "id": "X_UlOMB0L93w"
      },
      "source": [
        "2. (2б). Створіть два обʼєкти цього класу, де один з обʼєктів створюється із дефолтним значенням атрибуту. На одному обʼєкті отримайте значення його атрибуту, а на іншому викличте один з його методів."
      ]
    },
    {
      "cell_type": "code",
      "execution_count": 14,
      "metadata": {},
      "outputs": [
        {
          "name": "stdout",
          "output_type": "stream",
          "text": [
            "20000\n",
            "30000\n",
            "Empire State Building is 20 meters tall and has an area of 1000 square meters\n",
            "Empire State Building is 30 meters tall and has an area of 1000 square meters\n"
          ]
        }
      ],
      "source": [
        "building = Building(\"Empire State Building\", 1000)\n",
        "building2 = Building(\"Empire State Building\", 1000, 30)\n",
        "print(building.calculate_volume())\n",
        "print(building2.calculate_volume())\n",
        "\n",
        "print(building)\n",
        "print(building2)\n"
      ]
    },
    {
      "cell_type": "markdown",
      "metadata": {
        "id": "HoqSCZt1MHn5"
      },
      "source": [
        "3. (5б). Створіть клас, де атрибути мають різні рівні доступу. Спробуйте отримати їхні значення та опишіть результати.\n",
        "(описала у коментарях до коду)"
      ]
    },
    {
      "cell_type": "code",
      "execution_count": 15,
      "metadata": {
        "vscode": {
          "languageId": "ruby"
        }
      },
      "outputs": [
        {
          "name": "stdout",
          "output_type": "stream",
          "text": [
            "Name: John\n",
            "Age: 30\n",
            "Password: secure123\n"
          ]
        }
      ],
      "source": [
        "class User:\n",
        "    def __init__(self, name, age, password):\n",
        "        self.name = name            # Публічний атрибут\n",
        "        self._age = age             # Захищений атрибут (за домовленістю)\n",
        "        self.__password = password  # Приватний атрибут\n",
        "\n",
        "    def get_password(self):\n",
        "        return self.__password  \n",
        "\n",
        "\n",
        "user = User(\"John\", 30, \"secure123\")\n",
        "\n",
        "# Доступ до публічного атрибута дозволено завжди\n",
        "print(\"Name:\", user.name)  \n",
        "\n",
        "# Доступ до захищеного атрибута є, та не рекомендується таке використання\n",
        "# використовується тільки всередині класу або підкласах\n",
        "print(\"Age:\", person._age)  \n",
        "\n",
        "# Доступ до приватного атрибута напряму (НЕ дозволено)\n",
        "# print(\"Password:\", person.__password)  # Виникне AttributeError!\n",
        "\n",
        "# Доступ через геттер дозволено\n",
        "print(\"Password:\", person.get_password())  \n"
      ]
    },
    {
      "cell_type": "markdown",
      "metadata": {
        "id": "5op2m2vgMSkZ"
      },
      "source": [
        "4. (7б). Як ви розумієте термін self? Для чого використовується метод __init __?"
      ]
    },
    {
      "cell_type": "markdown",
      "metadata": {
        "id": "DyiPqNRvMasx"
      },
      "source": [
        "*місце для відповіді"
      ]
    },
    {
      "cell_type": "markdown",
      "metadata": {
        "vscode": {
          "languageId": "ruby"
        }
      },
      "source": [
        "self - це посилання на поточний екземпляр класу. Він використовується для доступу до атрибутів і методів об'єкта всередині самого класу.\n",
        "self пердається як перший аргумент у всі методи класу (окрім статичних), що дозволяє методам звертатися до атрибутів конкретного екземпляра класу.\n",
        "У Java, C++ ми би використовували this для цього.\n",
        "\n",
        "__init__ - це конструктор об'єктів. Він викликається автоматично при створенні нового об'єкта та використовується для ініціалізації атрибутів. Також він не повертає значення (за замовченням - None)"
      ]
    },
    {
      "cell_type": "markdown",
      "metadata": {
        "id": "-6X8EGfjMd2y"
      },
      "source": [
        "5. (9б). Створіть клас 3D-фігура без атрибутів, з методом get_volume для отримання об'єму фігури, що повертає 0 та __add __, який приймає self та other в якості аргументів, а повертає суму об'ємів 3d-фігур self та other."
      ]
    },
    {
      "cell_type": "code",
      "execution_count": 16,
      "metadata": {
        "id": "4rvO_wYUMaEr"
      },
      "outputs": [
        {
          "data": {
            "text/plain": [
              "0"
            ]
          },
          "execution_count": 16,
          "metadata": {},
          "output_type": "execute_result"
        }
      ],
      "source": [
        "class ThreeDShape:\n",
        "    def get_volume(self):\n",
        "        return 0\n",
        "    def __add__(self, other):\n",
        "        return self.get_volume() + other.get_volume()\n",
        "\n",
        "\n",
        "shape = ThreeDShape()\n",
        "shape.get_volume()"
      ]
    },
    {
      "cell_type": "markdown",
      "metadata": {
        "id": "SFcKnnv5Mo_z"
      },
      "source": [
        "6. (11б). Створіть 2 дочірніх класи від 3d-фігура: Циліндр та Куб, які мають атрибути, необхідні для розрахунку об'єму. Визначте метод get_volume в кожному з них так, щоби вони розраховували об'єм у залежності від формули для кожного типу фігури. Створіть обʼєкт класу Циліндр та обʼєкт класу Куб. Виконайте операцію суми за допомогою оператора + між ними, аби знайти сумарний об'єм."
      ]
    },
    {
      "cell_type": "code",
      "execution_count": 17,
      "metadata": {
        "id": "H3GVNr69Muf3"
      },
      "outputs": [
        {
          "name": "stdout",
          "output_type": "stream",
          "text": [
            "Об'єм куба: 27\n",
            "Об'єм циліндра: 141.3\n",
            "Сумарний об'єм: 168.3\n"
          ]
        }
      ],
      "source": [
        "class Cube(ThreeDShape):\n",
        "    def __init__(self, side):\n",
        "        self.side = side\n",
        "    def get_volume(self):\n",
        "        return self.side ** 3\n",
        "\n",
        "class Cilinder(ThreeDShape):\n",
        "    def __init__(self, radius, height):\n",
        "        self.radius = radius\n",
        "        self.height = height\n",
        "   \n",
        "    def get_volume(self):\n",
        "        return 3.14 * self.radius ** 2 * self.height\n",
        "\n",
        "cube = Cube(3)\n",
        "cilinder = Cilinder(3, 5)\n",
        "print(\"Об'єм куба:\", cube.get_volume())\n",
        "print(\"Об'єм циліндра:\",cilinder.get_volume())\n",
        "print(\"Сумарний об'єм:\", cube + cilinder)\n"
      ]
    },
    {
      "cell_type": "markdown",
      "metadata": {
        "id": "HCvR206YMvLK"
      },
      "source": [
        "7. (3б). Продемонструйте різницю між isinstance та issubclass."
      ]
    },
    {
      "cell_type": "code",
      "execution_count": null,
      "metadata": {
        "id": "L_V1bBvDM0GN"
      },
      "outputs": [
        {
          "name": "stdout",
          "output_type": "stream",
          "text": [
            "чи є об'єкт екземпляру класу або піккласу ThreeDShape\n",
            "True\n",
            "True\n",
            "False\n",
            "чи є клас підкласом класу ThreeDShape\n",
            "True\n",
            "False\n"
          ]
        }
      ],
      "source": [
        "\n",
        "print(\"чи є об'єкт екземпляром класу або пікласу ThreeDShape\")\n",
        "print(isinstance(cube, ThreeDShape))\n",
        "print(isinstance(cube, Cube))\n",
        "print(isinstance(cube, Cilinder))\n",
        "\n",
        "print(\"чи є клас підкласом класу ThreeDShape\")\n",
        "#чи є клас підкласом класу ThreeDShape\n",
        "print(issubclass(Cube, ThreeDShape))\n",
        "print(issubclass(int, ThreeDShape))"
      ]
    },
    {
      "cell_type": "markdown",
      "metadata": {
        "id": "jjsaBZ-iM0Qq"
      },
      "source": [
        "8. (13б). Створіть клас EWallet з приватними атрибутами balance та id. Реалізуйте методи поповнення та зняття коштів, забезпечивши належну інкапсуляцію. Підказка: використовуйте декоратори property та setter."
      ]
    },
    {
      "cell_type": "code",
      "execution_count": 24,
      "metadata": {
        "id": "xCvZ7lh8M7YA"
      },
      "outputs": [
        {
          "name": "stdout",
          "output_type": "stream",
          "text": [
            "Getters:\n",
            "Id: 6932\n",
            "Balance 10000\n",
            "Setters:\n",
            "Id: 1234\n",
            "Balance 30000\n"
          ]
        }
      ],
      "source": [
        "import random\n",
        "\n",
        "class EWallet:\n",
        "    def __init__(self):\n",
        "        self.__id = random.randint(1000, 9999)\n",
        "        self.__balance = 10000\n",
        "    \n",
        "    @property\n",
        "    def id(self):\n",
        "        return self.__id\n",
        "    @property\n",
        "    def balance(self):\n",
        "        return self.__balance\n",
        "    \n",
        "    @id.setter\n",
        "    def id(self, new_id):\n",
        "        self.__id = new_id\n",
        "    \n",
        "    @balance.setter\n",
        "    def balance(self, new_balance):\n",
        "        self.__balance = new_balance\n",
        "\n",
        "\n",
        "wallet = EWallet()\n",
        "print(\"Getters:\")\n",
        "print(\"Id:\", wallet.id)\n",
        "print(\"Balance\", wallet.balance)\n",
        "\n",
        "\n",
        "print(\"Setters:\")\n",
        "wallet.id = 1234\n",
        "wallet.balance += 20000\n",
        "print(\"Id:\", wallet.id)\n",
        "print(\"Balance\", wallet.balance)"
      ]
    },
    {
      "cell_type": "markdown",
      "metadata": {
        "id": "tIzL2SJTM8ft"
      },
      "source": [
        "9. (11б). Створіть клас ShoppingCart, який містить список об'єктів типу Item. Реалізуйте методи для додавання айтемів, їх видалення та відображення списку айтемів."
      ]
    },
    {
      "cell_type": "code",
      "execution_count": 29,
      "metadata": {
        "id": "HWxfJKLtNAUZ"
      },
      "outputs": [
        {
          "name": "stdout",
          "output_type": "stream",
          "text": [
            "['apples', 'bananas', 'avocado']\n"
          ]
        }
      ],
      "source": [
        "class ShoppingCart:\n",
        "    def __init__(self):\n",
        "        self.__items = []\n",
        "    \n",
        "    def add_item(self, item):\n",
        "        self.__items.append(item)\n",
        "    \n",
        "    def remove_item(self, item):\n",
        "        self.__items.remove(item)\n",
        "\n",
        "    @property\n",
        "    def items(self):\n",
        "        return self.__items\n",
        "\n",
        "cart = ShoppingCart()\n",
        "cart.add_item(\"apples\")\n",
        "cart.add_item(\"bananas\")\n",
        "cart.add_item(\"avocado\")\n",
        "\n",
        "print(cart.items)"
      ]
    },
    {
      "cell_type": "markdown",
      "metadata": {
        "id": "lmV8pAwwNIqu"
      },
      "source": [
        "10. (13б). Створіть клас Vehicle з атрибутами brand (manufacturer) та production_age. Створіть ще один клас Engine з такими атрибутами, як type (ex. petrol) та size (volume, litres). Створіть клас Car, який успадковує обидва класи Vehicle та Engine. Продемонструйте використання множинної спадковості, створивши обʼєкт класу Car та отримавши mro для цього класу."
      ]
    },
    {
      "cell_type": "code",
      "execution_count": 30,
      "metadata": {
        "id": "R49grKlWNPeN"
      },
      "outputs": [
        {
          "name": "stdout",
          "output_type": "stream",
          "text": [
            "Car brand: Toyota, Age: 5 years, Engine: Petrol, Size: 1.8L\n",
            "[<class '__main__.Car'>, <class '__main__.Vehicle'>, <class '__main__.Engine'>, <class 'object'>]\n"
          ]
        }
      ],
      "source": [
        "class Vehicle:\n",
        "    def __init__(self, brand, production_age):\n",
        "        self.brand = brand\n",
        "        self.production_age = production_age\n",
        "\n",
        "class Engine:\n",
        "    def __init__(self, type, size):\n",
        "        self.type = type\n",
        "        self.size = size\n",
        "    \n",
        "class Car(Vehicle, Engine):\n",
        "    def __init__(self, brand, production_age, type, size):\n",
        "        Vehicle.__init__(self, brand, production_age)\n",
        "        Engine.__init__(self, type, size)\n",
        "    \n",
        "    def show_info(self):\n",
        "        return (f\"Car brand: {self.brand}, Age: {self.production_age} years, \"\n",
        "                f\"Engine: {self.type}, Size: {self.size}L\")\n",
        "\n",
        "\n",
        "car = Car(\"Toyota\", 5, \"Petrol\", 1.8)\n",
        "\n",
        "\n",
        "print(car.show_info())\n",
        "\n",
        "print(Car.mro())  \n"
      ]
    },
    {
      "cell_type": "markdown",
      "metadata": {
        "id": "dIJyUiNBFG8G"
      },
      "source": [
        "# II. Iterator"
      ]
    },
    {
      "cell_type": "markdown",
      "metadata": {
        "id": "13vsm0NyKIzL"
      },
      "source": [
        "11. (4б). Визначте рядок(str) з 4ма різними за значенням символами. Створіть ітератор на основі цього рядка. Викличте 5 разів функцію next на ітераторі, 4ри перших з них огорніть у ф-цію print()."
      ]
    },
    {
      "cell_type": "code",
      "execution_count": null,
      "metadata": {},
      "outputs": [
        {
          "name": "stdout",
          "output_type": "stream",
          "text": [
            "a\n",
            "6\n",
            "2\n",
            "-\n"
          ]
        },
        {
          "ename": "StopIteration",
          "evalue": "",
          "output_type": "error",
          "traceback": [
            "\u001b[31m---------------------------------------------------------------------------\u001b[39m",
            "\u001b[31mStopIteration\u001b[39m                             Traceback (most recent call last)",
            "\u001b[36mCell\u001b[39m\u001b[36m \u001b[39m\u001b[32mIn[32]\u001b[39m\u001b[32m, line 11\u001b[39m\n\u001b[32m      9\u001b[39m     \u001b[38;5;28;01mexcept\u001b[39;00m \u001b[38;5;167;01mStopIteration\u001b[39;00m:\n\u001b[32m     10\u001b[39m         \u001b[38;5;28;01mbreak\u001b[39;00m\n\u001b[32m---> \u001b[39m\u001b[32m11\u001b[39m \u001b[38;5;28;43mnext\u001b[39;49m\u001b[43m(\u001b[49m\u001b[43miterator\u001b[49m\u001b[43m)\u001b[49m\n",
            "\u001b[31mStopIteration\u001b[39m: "
          ]
        }
      ],
      "source": [
        "my_str = 'a62-'\n",
        "\n",
        "iterator = iter(my_str)\n",
        "\n",
        "while my_str:\n",
        "    try:\n",
        "        item = next(iterator)\n",
        "        print(item)\n",
        "    except StopIteration:\n",
        "        break\n",
        "next(iterator) # помилка StopIteration "
      ]
    },
    {
      "cell_type": "markdown",
      "metadata": {
        "id": "aekWHGXOLRsO"
      },
      "source": [
        "А що якщо викликати цю ж функцію на рядку?"
      ]
    },
    {
      "cell_type": "code",
      "execution_count": 33,
      "metadata": {
        "id": "mxATGsErLV1i"
      },
      "outputs": [
        {
          "ename": "TypeError",
          "evalue": "'str' object is not an iterator",
          "output_type": "error",
          "traceback": [
            "\u001b[31m---------------------------------------------------------------------------\u001b[39m",
            "\u001b[31mTypeError\u001b[39m                                 Traceback (most recent call last)",
            "\u001b[36mCell\u001b[39m\u001b[36m \u001b[39m\u001b[32mIn[33]\u001b[39m\u001b[32m, line 1\u001b[39m\n\u001b[32m----> \u001b[39m\u001b[32m1\u001b[39m \u001b[38;5;28;43mnext\u001b[39;49m\u001b[43m(\u001b[49m\u001b[43mmy_str\u001b[49m\u001b[43m)\u001b[49m \u001b[38;5;66;03m# помилка TypeError\u001b[39;00m\n",
            "\u001b[31mTypeError\u001b[39m: 'str' object is not an iterator"
          ]
        }
      ],
      "source": [
        "next(my_str) # помилка TypeError"
      ]
    },
    {
      "cell_type": "markdown",
      "metadata": {
        "id": "XwtMEopwJ4pH"
      },
      "source": [
        " 12. (5б). Опишіть своїми словами в одному реченні, як ви розумієте різницю між ітерабельними обʼєктами та ітераторами (можна на прикладі)."
      ]
    },
    {
      "cell_type": "markdown",
      "metadata": {},
      "source": [
        "Ітерабельний об'єкт (наприклад, рядок `\"abcd\"`) — це контейнер, який можна перебирати в циклі `for`, але він сам не зберігає стану, тоді як ітератор (`iter(\"abcd\")`) — це об'єкт, який запам'ятовує свою поточну позицію та дозволяє отримувати елементи поступово через `next()`. "
      ]
    },
    {
      "cell_type": "markdown",
      "metadata": {
        "id": "-sHrODc3KFn8"
      },
      "source": [
        "*місце для відповіді"
      ]
    },
    {
      "cell_type": "markdown",
      "metadata": {
        "id": "E9qJWmNbK8Gl"
      },
      "source": [
        "13. (11б). Створіть клас, що має визначений Iterator Protocol та при кожному виклику next повертає назву дня тижня, поки вони не вичерпаються. Зверніть увагу, що порядок має значення."
      ]
    },
    {
      "cell_type": "code",
      "execution_count": null,
      "metadata": {
        "id": "cqx-g_RsLo6I"
      },
      "outputs": [
        {
          "name": "stdout",
          "output_type": "stream",
          "text": [
            "WeekDays.MONDAY\n",
            "WeekDays.TUESDAY\n",
            "WeekDays.WEDNESDAY\n",
            "WeekDays.THURSDAY\n",
            "WeekDays.FRIDAY\n",
            "WeekDays.SATURDAY\n",
            "WeekDays.SUNDAY\n"
          ]
        }
      ],
      "source": [
        "\n",
        "from enum import Enum\n",
        "\n",
        "class WeekDays(Enum):\n",
        "    MONDAY = 1\n",
        "    TUESDAY = 2\n",
        "    WEDNESDAY = 3\n",
        "    THURSDAY = 4\n",
        "    FRIDAY = 5\n",
        "    SATURDAY = 6\n",
        "    SUNDAY = 7\n",
        "\n",
        "\n",
        "class WeekDaysIterator:\n",
        "    def __init__(self):\n",
        "        self.days = list(WeekDays)\n",
        "        self.index = 0\n",
        "\n",
        "    def __iter__(self):\n",
        "        return self\n",
        "\n",
        "    def __next__(self):\n",
        "        if self.index < len(self.days):\n",
        "            result = self.days[self.index]\n",
        "            self.index += 1\n",
        "            return result\n",
        "        else:\n",
        "            raise StopIteration\n",
        "\n",
        "weekDaysIterator = WeekDaysIterator()\n",
        "\n",
        "while list(WeekDays):\n",
        "    try:\n",
        "        print(next(weekDaysIterator))\n",
        "    except StopIteration:\n",
        "        break  \n",
        "        \n"
      ]
    },
    {
      "cell_type": "markdown",
      "metadata": {
        "id": "Z3E3S_s1Fv7-"
      },
      "source": [
        "# Вітаю! Ви велика(ий) молодець, що впоралась(вся). Похваліть себе та побалуйте чимось приємним. Я Вами пишаюся."
      ]
    }
  ],
  "metadata": {
    "colab": {
      "provenance": []
    },
    "kernelspec": {
      "display_name": "Python 3",
      "name": "python3"
    },
    "language_info": {
      "codemirror_mode": {
        "name": "ipython",
        "version": 3
      },
      "file_extension": ".py",
      "mimetype": "text/x-python",
      "name": "python",
      "nbconvert_exporter": "python",
      "pygments_lexer": "ipython3",
      "version": "3.12.5"
    }
  },
  "nbformat": 4,
  "nbformat_minor": 0
}
