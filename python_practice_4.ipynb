{
  "cells": [
    {
      "cell_type": "markdown",
      "metadata": {
        "id": "kXpppdVm6wFy"
      },
      "source": [
        "# I. Functions. Arguments."
      ]
    },
    {
      "cell_type": "markdown",
      "metadata": {
        "id": "u_krJdlbAkVz"
      },
      "source": [
        "1. (5б) Назвіть основні 4 смислові  частини, з яких складається функція."
      ]
    },
    {
      "cell_type": "markdown",
      "metadata": {
        "id": "KKTrTXmHAptb"
      },
      "source": [
        "оголошення функції, тіло функції, аргументи, оператор повернення результату"
      ]
    },
    {
      "cell_type": "markdown",
      "metadata": {
        "id": "ORM4PqJQAtDM"
      },
      "source": [
        "2. (3б) Визначте функцію, що приймає 2 аргументи та повертає результат ділення 1го аргумента на інший."
      ]
    },
    {
      "cell_type": "code",
      "execution_count": 2,
      "metadata": {
        "id": "EuDx-z8M6sLo"
      },
      "outputs": [
        {
          "data": {
            "text/plain": [
              "5.0"
            ]
          },
          "execution_count": 2,
          "metadata": {},
          "output_type": "execute_result"
        }
      ],
      "source": [
        "def div_func(a, b):\n",
        "    if b == 0:\n",
        "        raise ValueError('Cannot divide by zero')\n",
        "    return a / b\n",
        "\n",
        "div_func(10, 2)"
      ]
    },
    {
      "cell_type": "markdown",
      "metadata": {
        "id": "5joQGQ-SAyMe"
      },
      "source": [
        "3. (2б) Викличте вище визначену функцію, де другий аргумент дорівнює 0."
      ]
    },
    {
      "cell_type": "code",
      "execution_count": 3,
      "metadata": {
        "id": "V5cBV1LOA3d-"
      },
      "outputs": [
        {
          "ename": "ValueError",
          "evalue": "Cannot divide by zero",
          "output_type": "error",
          "traceback": [
            "\u001b[0;31m---------------------------------------------------------------------------\u001b[0m",
            "\u001b[0;31mValueError\u001b[0m                                Traceback (most recent call last)",
            "Cell \u001b[0;32mIn[3], line 1\u001b[0m\n\u001b[0;32m----> 1\u001b[0m \u001b[43mdiv_func\u001b[49m\u001b[43m(\u001b[49m\u001b[38;5;241;43m10\u001b[39;49m\u001b[43m,\u001b[49m\u001b[43m \u001b[49m\u001b[38;5;241;43m0\u001b[39;49m\u001b[43m)\u001b[49m\n",
            "Cell \u001b[0;32mIn[2], line 3\u001b[0m, in \u001b[0;36mdiv_func\u001b[0;34m(a, b)\u001b[0m\n\u001b[1;32m      1\u001b[0m \u001b[38;5;28;01mdef\u001b[39;00m \u001b[38;5;21mdiv_func\u001b[39m(a, b):\n\u001b[1;32m      2\u001b[0m     \u001b[38;5;28;01mif\u001b[39;00m b \u001b[38;5;241m==\u001b[39m \u001b[38;5;241m0\u001b[39m:\n\u001b[0;32m----> 3\u001b[0m         \u001b[38;5;28;01mraise\u001b[39;00m \u001b[38;5;167;01mValueError\u001b[39;00m(\u001b[38;5;124m'\u001b[39m\u001b[38;5;124mCannot divide by zero\u001b[39m\u001b[38;5;124m'\u001b[39m)\n\u001b[1;32m      4\u001b[0m     \u001b[38;5;28;01mreturn\u001b[39;00m a \u001b[38;5;241m/\u001b[39m b\n",
            "\u001b[0;31mValueError\u001b[0m: Cannot divide by zero"
          ]
        }
      ],
      "source": [
        "div_func(10, 0)"
      ]
    },
    {
      "cell_type": "markdown",
      "metadata": {
        "id": "QyimWgW8A43-"
      },
      "source": [
        "4. (4б) Перевизначте функцію так, щоби у випадку ділення на 0 функція повертала None, а в решті випадків - результат розрахунків."
      ]
    },
    {
      "cell_type": "code",
      "execution_count": 30,
      "metadata": {
        "id": "7VIODtSjA8Ek"
      },
      "outputs": [],
      "source": [
        "def div_func(a, b):\n",
        "    if b == 0:\n",
        "        return None\n",
        "    return a / b\n",
        "\n",
        "div_func(10, 0)"
      ]
    },
    {
      "cell_type": "markdown",
      "metadata": {
        "id": "Y8mN0GfkA81l"
      },
      "source": [
        "5. (5б) Визначте функцію, що віднімає одне число від іншого (підказка: це буде 2 аргументи функції). При чому, якщо не визначити, скільки саме має бути віднято від числа, за замовчуванням має відніматися 1. Викличте функцію, передаючи тільки один аргумент."
      ]
    },
    {
      "cell_type": "code",
      "execution_count": 31,
      "metadata": {
        "id": "vg1kxkdgBA50"
      },
      "outputs": [
        {
          "data": {
            "text/plain": [
              "9"
            ]
          },
          "execution_count": 31,
          "metadata": {},
          "output_type": "execute_result"
        }
      ],
      "source": [
        "\n",
        "def sub_func(a, b=1):\n",
        "    return a - b\n",
        "\n",
        "sub_func(10, 20)\n",
        "sub_func(10)"
      ]
    },
    {
      "cell_type": "markdown",
      "metadata": {
        "id": "D3mwQGNOBBs4"
      },
      "source": [
        "6. (7б) Визначте функцію, яка приймає iterable (ітерабельний обʼєкт, напр. список), що складається з 7ми рядкових значень - назв погодних умов (напр. \"sunny\") за кожен день у тижні. Повертає функція словник, де ключами є рядки з погодними умовами, а значеннями - кількість разів, скільки дана погода була протягом тижня (напр. {'sunny': 1, ...}). Викличте цю функцію та виведіть результат її роботи на екран."
      ]
    },
    {
      "cell_type": "code",
      "execution_count": 32,
      "metadata": {
        "id": "OsWm-hKcBFyn"
      },
      "outputs": [
        {
          "data": {
            "text/plain": [
              "{0: 'sunny', 1: 'rainy', 2: 'cloudy'}"
            ]
          },
          "execution_count": 32,
          "metadata": {},
          "output_type": "execute_result"
        }
      ],
      "source": [
        "def iterable(*args):\n",
        "    dict = {}\n",
        "    for i, arg in enumerate(args):\n",
        "        dict[i] = arg\n",
        "    return dict\n",
        "\n",
        "iterable('sunny', 'rainy', 'cloudy')"
      ]
    },
    {
      "cell_type": "markdown",
      "metadata": {
        "id": "RMiCcdOsBKQT"
      },
      "source": [
        "7. (15б) Напишіть програму, яка б шукала необхідне число у впорядкованому списку цілочислених значень, де\n",
        "число має вводитись з консолі.\n",
        "власне алгоритм пошуку винесений в окрему функцію, яка повертає булеве значення (знайдено число - True, не знайдено - False).\n",
        "в залежності від результату функції, виведіть на екран повідомлення про успішний або ж неуспішний пошук.\n",
        "Зауваження: використовувати оператор in заборонено."
      ]
    },
    {
      "cell_type": "code",
      "execution_count": 33,
      "metadata": {
        "id": "UNCZg65OBOy-"
      },
      "outputs": [
        {
          "data": {
            "text/plain": [
              "True"
            ]
          },
          "execution_count": 33,
          "metadata": {},
          "output_type": "execute_result"
        }
      ],
      "source": [
        "list = [1, 12, 3459, 0, 324, 945, -12]\n",
        "list.sort()\n",
        " \n",
        "def binary_search(number):\n",
        "    left = 0\n",
        "    right = len(list) - 1\n",
        "    while left <= right:\n",
        "        mid = (left + right) // 2\n",
        "        if list[mid] == number:\n",
        "            return True\n",
        "        elif list[mid] < number:\n",
        "            left = mid + 1\n",
        "        else:\n",
        "            right = mid - 1\n",
        "    return False\n",
        "\n",
        "binary_search(324)\n",
        "# binary_search(149)\n"
      ]
    },
    {
      "cell_type": "markdown",
      "metadata": {
        "id": "Ae1n_OvLBTsy"
      },
      "source": [
        "# II. Lambda functions."
      ]
    },
    {
      "cell_type": "markdown",
      "metadata": {
        "id": "xaD_wSlaCWen"
      },
      "source": [
        "8. (4б) В яких випадках варто використовувати лямбда-функції?"
      ]
    },
    {
      "cell_type": "markdown",
      "metadata": {
        "id": "42MB6OoLCakR"
      },
      "source": [
        "коли нам потрібна функція, яка міститиме лише прості вирази. Також у вбудованих функціях map(), reduce(), filter()."
      ]
    },
    {
      "cell_type": "markdown",
      "metadata": {
        "id": "USrzrk7GCedk"
      },
      "source": [
        "9. (9б) Визначте список з рядками. Після цього визначте анонімну функцію для отримання першого символу у верхньому регістрі для кожного рядка списку.\n",
        "Підказка: використовуйте анонімну функцію в якості агрумента до вбудованої ф-ції, яка створена для застосування функцій над iterable обʼєктами. Результат виведіть на екран у вигляді кортежу."
      ]
    },
    {
      "cell_type": "code",
      "execution_count": 34,
      "metadata": {
        "id": "M8QWUsMlCjWH"
      },
      "outputs": [
        {
          "name": "stdout",
          "output_type": "stream",
          "text": [
            "('h', 'l', 't', 't', 't', 't', 't')\n"
          ]
        }
      ],
      "source": [
        "books = [ 'harry potter', 'lord of the rings', 'the hobbit', 'the alchemist', 'the little prince', 'the catcher in the rye', 'the da vinci code']\n",
        "\n",
        "first_letter = tuple(map(lambda x: x[0], books))\n",
        "print(first_letter)"
      ]
    },
    {
      "cell_type": "markdown",
      "metadata": {
        "id": "9fyUhXOoCtGp"
      },
      "source": [
        "10. (10б) Визначте список з числовими значеннями (і цілими, і з рухомою комою). а) Відфільтруйте всі числа, які діляться націло на 3 за допомогою вбудованої функції та анонімної функції в якості аргумента). Збережіть результат у змінній, не приводяти явно до будь-якого типу. б) Використовуючи результат на кроці 12.а у якості аргументу, та за допомогою лямбда-функції в якості іншого аргументу до вбудованої функції, додайте до кожного елементу число 1 та опісля зведіть у квадрат. Остаточний результат приведіть явно до списку та виведіть на екран."
      ]
    },
    {
      "cell_type": "code",
      "execution_count": 35,
      "metadata": {
        "id": "exEx2_okCsql"
      },
      "outputs": [
        {
          "name": "stdout",
          "output_type": "stream",
          "text": [
            "(1, 16, 121)\n"
          ]
        }
      ],
      "source": [
        "numbers = [1, 5.3, 2.6, 10, 349, -2, 34, 0, 0.5, 0.1, 3, 6.0, 9.9, -12]\n",
        "\n",
        "div_3 = filter(lambda x: isinstance(x, int) and x % 3 == 0, numbers)\n",
        "\n",
        "add_1_and_square = tuple(map(lambda x: (x + 1) ** 2, div_3))\n",
        "\n",
        "print(add_1_and_square)\n"
      ]
    },
    {
      "cell_type": "markdown",
      "metadata": {
        "id": "o_x8cG_WC7jp"
      },
      "source": [
        "# III. Decorators."
      ]
    },
    {
      "cell_type": "markdown",
      "metadata": {
        "id": "mhxS4-mfC8LQ"
      },
      "source": [
        "11. (11б) Визначте декоратор, який би виводив у консоль повідомлення про початок роботи і назву функції (напр. my_function._ _ name _ _), а після відпрацювання функції - повідомлення про закінчення роботи і назву функції, що задекорована."
      ]
    },
    {
      "cell_type": "code",
      "execution_count": 36,
      "metadata": {
        "id": "srd1ygWjDGhO"
      },
      "outputs": [
        {
          "name": "stdout",
          "output_type": "stream",
          "text": [
            "This is the start of the function my_name\n",
            "Hello, my name is Svitlana\n",
            "This is the end of the function my_name\n"
          ]
        }
      ],
      "source": [
        "def dec_func(func):\n",
        "    def wrapper(*args, **kwargs):\n",
        "        print('This is the start of the function ' + func.__name__)\n",
        "        result = func(*args, **kwargs)\n",
        "        print('This is the end of the function ' + func.__name__)\n",
        "        return result\n",
        "    return wrapper\n",
        "\n",
        "@dec_func\n",
        "def my_name(name):\n",
        "    print(f'Hello, my name is {name}')\n",
        "\n",
        "my_name('Svitlana')"
      ]
    },
    {
      "cell_type": "markdown",
      "metadata": {
        "id": "rxGZwVBiDph3"
      },
      "source": [
        "12. (4б) Задекоруйте двома різними способами функції з завдання 4 та 5 декоратором із завдання 11. (**УВАГА**: не декоруйте функції двічі!)."
      ]
    },
    {
      "cell_type": "code",
      "execution_count": 37,
      "metadata": {
        "id": "06lj7eq_DwZe"
      },
      "outputs": [
        {
          "name": "stdout",
          "output_type": "stream",
          "text": [
            "This is the start of the function div_func\n",
            "This is the end of the function div_func\n",
            "This is the start of the function sub_func\n",
            "This is the end of the function sub_func\n"
          ]
        },
        {
          "data": {
            "text/plain": [
              "-10"
            ]
          },
          "execution_count": 37,
          "metadata": {},
          "output_type": "execute_result"
        }
      ],
      "source": [
        "div_func = dec_func(div_func)\n",
        "sub_func = dec_func(sub_func)\n",
        "\n"
      ]
    },
    {
      "cell_type": "markdown",
      "metadata": {
        "id": "P0ep1urBDzf-"
      },
      "source": [
        "13. (2б) Викличте одну з задекорованих функцій і виведіть її результат на екран."
      ]
    },
    {
      "cell_type": "code",
      "execution_count": null,
      "metadata": {
        "id": "1QvTw0ctD0S3"
      },
      "outputs": [],
      "source": [
        "div_func(10, 2)"
      ]
    },
    {
      "cell_type": "markdown",
      "metadata": {
        "id": "poECCpuoD2S9"
      },
      "source": [
        "# IV. Recursion."
      ]
    },
    {
      "cell_type": "markdown",
      "metadata": {
        "id": "DqkURfdsD7MY"
      },
      "source": [
        "14. (4б) Назвіть дві частини функції, які є обовʼязковими для того, щоб називати її рекурсивною."
      ]
    },
    {
      "cell_type": "markdown",
      "metadata": {
        "id": "HYW6ttIeIQIU"
      },
      "source": [
        "базовий випадок (умова зупинки) та рекурсивний виклик"
      ]
    },
    {
      "cell_type": "markdown",
      "metadata": {
        "id": "WYVt20UmEA35"
      },
      "source": [
        "15. (15б) Визначте функцію, яка рекурсивно реалізовує пошук числа у послідовності Фібоначчі за її індексом (нумерація починається з нуля). Наприклад, потрібно знайти перше число у послідовності, тоді функція прийматиме 0 у якості аргумента і повертатиме 1, якщо ж знаходити третє число (індекс 2) послідовності, то функція повертатиме 2, якщо ж знаходити десяте число (індекс 9), то функція повертатиме 55."
      ]
    },
    {
      "cell_type": "code",
      "execution_count": 40,
      "metadata": {
        "id": "xIMhp05AIpV_"
      },
      "outputs": [
        {
          "data": {
            "text/plain": [
              "0"
            ]
          },
          "execution_count": 40,
          "metadata": {},
          "output_type": "execute_result"
        }
      ],
      "source": [
        "def fib(n):\n",
        "    if n == 0:\n",
        "        return 0\n",
        "    if n == 1:\n",
        "        return 1\n",
        "    return fib(n - 1) + fib(n - 2)\n",
        "\n",
        "fib(0)"
      ]
    },
    {
      "cell_type": "markdown",
      "metadata": {
        "id": "ytXC8n_4Ip0W"
      },
      "source": [
        "# Вітаю! Ви велика(ий) молодець, що впоралась(вся). Похваліть себе та побалуйте чимось приємним. Я Вами пишаюся."
      ]
    }
  ],
  "metadata": {
    "colab": {
      "provenance": []
    },
    "kernelspec": {
      "display_name": "Python 3",
      "name": "python3"
    },
    "language_info": {
      "codemirror_mode": {
        "name": "ipython",
        "version": 3
      },
      "file_extension": ".py",
      "mimetype": "text/x-python",
      "name": "python",
      "nbconvert_exporter": "python",
      "pygments_lexer": "ipython3",
      "version": "3.13.1"
    }
  },
  "nbformat": 4,
  "nbformat_minor": 0
}
